{
  "nbformat": 4,
  "nbformat_minor": 0,
  "metadata": {
    "colab": {
      "provenance": []
    },
    "kernelspec": {
      "name": "python3",
      "display_name": "Python 3"
    },
    "language_info": {
      "name": "python"
    }
  },
  "cells": [
    {
      "cell_type": "code",
      "source": [
        "pip install geopandas"
      ],
      "metadata": {
        "id": "8kGvl8Do5Rex"
      },
      "execution_count": null,
      "outputs": []
    },
    {
      "cell_type": "code",
      "execution_count": 15,
      "metadata": {
        "id": "r8tJBs-y4-BE"
      },
      "outputs": [],
      "source": [
        "import numpy as np\n",
        "import gdal\n",
        "import ogr\n",
        "from skimage import exposure\n",
        "from skimage.segmentation import quickshift\n",
        "import geopandas as gpd\n",
        "import numpy as np\n",
        "import scipy\n",
        "import pandas as pd\n",
        "from sklearn.ensemble import RandomForestClassifier"
      ]
    },
    {
      "cell_type": "code",
      "source": [
        "naip_fn = '/content/sample_data/aerial-image.tif'\n",
        " \n",
        "driverTiff = gdal.GetDriverByName('GTiff')\n",
        "naip_ds = gdal.Open(naip_fn)\n",
        "nbands = naip_ds.RasterCount\n",
        "band_data = []\n",
        "\n",
        "for i in range(1, nbands+1):\n",
        "    band = naip_ds.GetRasterBand(i).ReadAsArray()\n",
        "    band_data.append(band)\n",
        "band_data = np.dstack(band_data)\n",
        "img = exposure.rescale_intensity(band_data)\n",
        "# print(img)\n",
        "\n",
        "# do segmentation, different options with quickshift and slic (only use one of the next two lines)\n",
        "segments = quickshift(img, ratio=0.99, max_dist=5, convert2lab=False)\n",
        "# segments = slice(img, n_segments=500000, compactness=0.1)\n",
        "# print('segments complete', time.time() - seg_start)\n",
        " \n",
        "# save segments to raster\n",
        "segments_fn = '/content/sample_data/segments_max_dist_5_ratio_11.tif'\n",
        "segments_ds = driverTiff.Create(segments_fn, naip_ds.RasterXSize, naip_ds.RasterYSize,\n",
        "                                1, gdal.GDT_Float32)\n",
        "segments_ds.SetGeoTransform(naip_ds.GetGeoTransform())\n",
        "segments_ds.SetProjection(naip_ds.GetProjectionRef())\n",
        "segments_ds.GetRasterBand(1).WriteArray(segments)\n",
        "segments_ds = None"
      ],
      "metadata": {
        "id": "y1Vyewjs5PcJ"
      },
      "execution_count": 4,
      "outputs": []
    },
    {
      "cell_type": "code",
      "source": [
        "def segment_features(segment_pixels):\n",
        "    features = []\n",
        "    npixels, nbands = segment_pixels.shape\n",
        "    for b in range(nbands):\n",
        "        stats = scipy.stats.describe(segment_pixels[:, b])\n",
        "        band_stats = list(stats.minmax) + list(stats)[2:]\n",
        "        if npixels == 1:\n",
        "            # in this case the variance = nan, change it 0.0\n",
        "            band_stats[3] = 0.0\n",
        "        features += band_stats\n",
        "    return features"
      ],
      "metadata": {
        "id": "6RKVGpet8C0O"
      },
      "execution_count": 5,
      "outputs": []
    },
    {
      "cell_type": "code",
      "source": [
        "segment_ids = np.unique(segments)\n",
        "print(segment_ids)\n",
        "objects = []\n",
        "object_ids = []\n",
        "for id in segment_ids:\n",
        "    segment_pixels = img[segments == id]\n",
        "    object_features = segment_features(segment_pixels)\n",
        "    objects.append(object_features)\n",
        "    object_ids.append(id)"
      ],
      "metadata": {
        "id": "J3OIohMJ8Jcl"
      },
      "execution_count": null,
      "outputs": []
    },
    {
      "cell_type": "code",
      "source": [
        "# read shapefile to geopandas geodataframe\n",
        "gdf = gpd.read_file('/content/sample_data/sample.shp')\n",
        "# get names of land cover classes/labels\n",
        "class_names = gdf['label'].unique()\n",
        "print(class_names)\n",
        "# create a unique id (integer) for each land cover class/label\n",
        "class_ids = np.arange(class_names.size) + 1\n",
        "# create a pandas data frame of the labels and ids and save to csv\n",
        "df = pd.DataFrame({'label': class_names, 'id': class_ids})\n",
        "df.to_csv('/content/sample_data/class_lookup.csv')\n",
        "# add a new column to geodatafame with the id for each class/label\n",
        "gdf['id'] = gdf['label'].map(dict(zip(class_names, class_ids)))\n",
        " \n",
        "# split the truth data into training and test data sets and save each to a new shapefile\n",
        "gdf_train = gdf.sample(frac=0.7)  # 70% of observations assigned to training data (30% to test data)\n",
        "gdf_test = gdf.drop(gdf_train.index)\n",
        "# save training and test data to shapefiles\n",
        "gdf_train.to_file('/content/sample_data/train_data.shp')\n",
        "gdf_test.to_file('/content/sample_data/test_data.shp')"
      ],
      "metadata": {
        "id": "kGmul4MWpDDk"
      },
      "execution_count": null,
      "outputs": []
    },
    {
      "cell_type": "code",
      "source": [
        "train_fn = '/content/sample_data/train_data.shp'\n",
        "train_ds = ogr.Open(train_fn)\n",
        "lyr = train_ds.GetLayer()\n",
        "# create a new raster layer in memory\n",
        "driver = gdal.GetDriverByName('MEM')\n",
        "target_ds = driver.Create('', naip_ds.RasterXSize, naip_ds.RasterYSize, 1, gdal.GDT_UInt16)\n",
        "target_ds.SetGeoTransform(naip_ds.GetGeoTransform())\n",
        "target_ds.SetProjection(naip_ds.GetProjection())\n",
        "# rasterize the training points\n",
        "options = ['ATTRIBUTE=id']\n",
        "gdal.RasterizeLayer(target_ds, [1], lyr, options=options)\n",
        "# retrieve the rasterized data and print basic stats\n",
        "data = target_ds.GetRasterBand(1).ReadAsArray()"
      ],
      "metadata": {
        "id": "X58RIYOiqYJR"
      },
      "execution_count": 12,
      "outputs": []
    },
    {
      "cell_type": "code",
      "source": [
        "# rasterized observation (truth, training and test) data\n",
        "ground_truth = target_ds.GetRasterBand(1).ReadAsArray()\n",
        "\n",
        "# get unique values (0 is the background, or no data, value so it is not included) for each land cover type\n",
        "classes = np.unique(ground_truth)[1:]\n",
        "\n",
        "# for each class (land cover type) record the associated segment IDs\n",
        "segments_per_class = {}\n",
        "for klass in classes:\n",
        "    segments_of_class = segments[ground_truth == klass]\n",
        "    segments_per_class[klass] = set(segments_of_class)\n",
        " \n",
        "# make sure no segment ID represents more than one class\n",
        "intersection = set()\n",
        "accum = set()\n",
        "for class_segments in segments_per_class.values():\n",
        "    intersection |= accum.intersection(class_segments)\n",
        "    accum |= class_segments\n",
        "assert len(intersection) == 0, \"Segment(s) represent multiple classes\""
      ],
      "metadata": {
        "id": "o2Xm8D5RqfyQ"
      },
      "execution_count": 13,
      "outputs": []
    },
    {
      "cell_type": "code",
      "source": [
        "train_img = np.copy(segments)\n",
        "threshold = train_img.max() + 1  # make the threshold value greater than any land cover class value\n",
        "\n",
        "# all pixels in training segments assigned value greater than threshold\n",
        "for klass in classes:\n",
        "    class_label = threshold + klass\n",
        "    for segment_id in segments_per_class[klass]:\n",
        "        train_img[train_img == segment_id] = class_label\n",
        " \n",
        "# training segments receive land cover class value, all other segments 0\n",
        "train_img[train_img <= threshold] = 0\n",
        "train_img[train_img > threshold] -= threshold\n",
        "\n",
        "# create objects and labels for training data\n",
        "training_objects = []\n",
        "training_labels = []\n",
        "for klass in classes:\n",
        "    class_train_object = [v for i, v in enumerate(objects) if segment_ids[i] in segments_per_class[klass]]\n",
        "    training_labels += [klass] * len(class_train_object)\n",
        "    training_objects += class_train_object\n",
        " \n",
        "classifier = RandomForestClassifier(n_jobs=-1)  # setup random forest classifier\n",
        "classifier.fit(training_objects, training_labels)  # fit rf classifier\n",
        "predicted = classifier.predict(objects)  # predict with rf classifier\n",
        "\n",
        "# create numpy array from rf classifiation and save to raster\n",
        "clf = np.copy(segments)\n",
        "for segment_id, klass in zip(segment_ids, predicted):\n",
        "    clf[clf == segment_id] = klass\n",
        " \n",
        "mask = np.sum(img, axis=2)  # this section masks no data values\n",
        "mask[mask > 0.0] = 1.0\n",
        "mask[mask == 0.0] = -1.0\n",
        "clf = np.multiply(clf, mask)\n",
        "clf[clf < 0] = -9999.0\n",
        " \n",
        "clfds = driverTiff.Create('path/to/classified_result.tif', naip_ds.RasterXSize, naip_ds.RasterYSize,\n",
        "                          1, gdal.GDT_Float32)  # this section saves to raster\n",
        "clfds.SetGeoTransform(naip_ds.GetGeoTransform())\n",
        "clfds.SetProjection(naip_ds.GetProjection())\n",
        "clfds.GetRasterBand(1).SetNoDataValue(-9999.0)\n",
        "clfds.GetRasterBand(1).WriteArray(clf)\n",
        "clfds = None\n",
        " \n",
        "print('Done!')"
      ],
      "metadata": {
        "id": "0GFGU4sKqpsA"
      },
      "execution_count": null,
      "outputs": []
    }
  ]
}